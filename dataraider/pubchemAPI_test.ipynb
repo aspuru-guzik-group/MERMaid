{
 "cells": [
  {
   "cell_type": "code",
   "execution_count": null,
   "metadata": {},
   "outputs": [],
   "source": [
    "import pubchempy as pcp\n",
    "import re"
   ]
  },
  {
   "cell_type": "code",
   "execution_count": 37,
   "metadata": {},
   "outputs": [],
   "source": [
    "def pubchem_common_name_to_smiles(common_name: str): \n",
    "    try: \n",
    "        c = pcp.get_cids(common_name, 'name')\n",
    "        if len(c) ==1: \n",
    "            compound = pcp.Compound.from_cid(c[0])\n",
    "            c_smiles = compound.isomeric_smiles\n",
    "        return c_smiles, common_name\n",
    "    except: \n",
    "        return None, common_name"
   ]
  },
  {
   "cell_type": "code",
   "execution_count": 98,
   "metadata": {},
   "outputs": [],
   "source": [
    "def split_chemicals(value:str):\n",
    "    components = [comp.strip() for comp in value.split('|')]\n",
    "    result = []\n",
    "\n",
    "    for component in components:\n",
    "        match = re.match(r'(.+?)(\\s*(\\([^\\)]+\\)|\\[[^\\]]+\\]))?\\s*$', component)\n",
    "        if match:\n",
    "            chemical_name = match.group(1).strip()\n",
    "            quantity = match.group(2).strip().replace('(', '').replace(')', '').replace('[', '').replace(']', '') if match.group(2) else None\n",
    "        \n",
    "            result.append((chemical_name, quantity))\n",
    "        \n",
    "    return result"
   ]
  },
  {
   "cell_type": "code",
   "execution_count": 99,
   "metadata": {},
   "outputs": [
    {
     "data": {
      "text/plain": [
       "[('TMS3Si-H (1.5 equiv), MVK', '2.5 equiv')]"
      ]
     },
     "execution_count": 99,
     "metadata": {},
     "output_type": "execute_result"
    }
   ],
   "source": [
    "rxn_dict = {\n",
    "    \"Electrolytes\": \"TBAB\", \n",
    "    \"Additives\": \"TMS3Si-H (1.5 equiv), MVK (2.5 equiv)\",\n",
    "    \"Solvents\": \"CH3NO2 (5 equiv) | CH2Cl2 (~5:1)\"\n",
    "}\n",
    "value = rxn_dict[\"Additives\"]\n",
    "split_chemicals(value)"
   ]
  },
  {
   "cell_type": "code",
   "execution_count": null,
   "metadata": {},
   "outputs": [
    {
     "data": {
      "text/plain": [
       "('CN(C)C=O', 'DMF')"
      ]
     },
     "execution_count": 38,
     "metadata": {},
     "output_type": "execute_result"
    }
   ],
   "source": [
    "# TODO: how about photocatalysts and catalysts? \n",
    "# TODO: How about mixed systems (can be A/B or A:B or some other form...)\n",
    "keys = ['Electrolytes', 'Solvents', 'Chemicals', 'Additives']\n",
    "\n",
    "def entity_resolution_rxn_dict(rxn_dict: dict, keys):\n",
    "    for key in keys: \n",
    "        value = rxn_dict[key]\n",
    "        split_value = split_chemicals(value)\n",
    "        "
   ]
  },
  {
   "cell_type": "code",
   "execution_count": 5,
   "metadata": {},
   "outputs": [
    {
     "name": "stdout",
     "output_type": "stream",
     "text": [
      "Data saved to combined_data.csv\n"
     ]
    }
   ],
   "source": [
    "import os\n",
    "import pandas as pd\n",
    "import json\n",
    "\n",
    "directory = '../ocr_eval_results/ocr_eval/organic_synthesis/'\n",
    "data = []\n",
    "\n",
    "for filename in os.listdir(directory):\n",
    "    if filename.endswith('_bleuscore.json'):\n",
    "        file_name = filename.replace('_bleuscore.json', '')\n",
    "        filepath = os.path.join(directory, filename)\n",
    "        \n",
    "        with open(filepath, 'r') as file:\n",
    "            json_data = json.load(file)\n",
    "            for key, values in json_data.items():\n",
    "                data.append([file_name, key, *values])\n",
    "\n",
    "df = pd.DataFrame(data, columns=['File Name', 'Key', 'Value 1', 'Value 2', 'Value 3'])\n",
    "\n",
    "# Save the DataFrame to a CSV file\n",
    "df.to_csv('../ocr_eval_results/ocr_eval/organic_synthesis/combined_data.csv', index=False)\n",
    "\n",
    "print(\"Data saved to combined_data.csv\")\n"
   ]
  }
 ],
 "metadata": {
  "kernelspec": {
   "display_name": "base",
   "language": "python",
   "name": "python3"
  },
  "language_info": {
   "codemirror_mode": {
    "name": "ipython",
    "version": 3
   },
   "file_extension": ".py",
   "mimetype": "text/x-python",
   "name": "python",
   "nbconvert_exporter": "python",
   "pygments_lexer": "ipython3",
   "version": "3.11.5"
  }
 },
 "nbformat": 4,
 "nbformat_minor": 2
}
