{
 "cells": [
  {
   "cell_type": "code",
   "execution_count": 1,
   "metadata": {},
   "outputs": [
    {
     "name": "stdout",
     "output_type": "stream",
     "text": [
      "captions saved to ../downloaded_captions/organic_synthesis/10.1039_d3gc02735j.json_captions.json\n"
     ]
    }
   ],
   "source": [
    "import dl_captions_html as dl\n",
    "import os\n",
    "import json \n",
    "\n",
    "input_file_dir = \"../downloaded_html/organic_synthesis/\"\n",
    "caption_file_dir = \"../downloaded_captions/organic_synthesis/\"\n",
    "article_name = \"10.1039_d3gc02735j.json\"\n",
    "input_file_path = os.path.join(input_file_dir, article_name)\n",
    "base_name = \"10.1039_d3gc02735j_with_footnotes\"\n",
    "\n",
    "all_captions= dl.download_captions_headers_footnotes_rsc(input_file_path)\n",
    "dl.save_captions(caption_file_dir, article_name, all_captions)\n",
    "\n",
    "# for file in os.listdir(input_file_dir):\n",
    "#     if file.endswith('.json'): \n",
    "#         article_name = file.removesuffix('.json') + '_with_footnotes'\n",
    "#         input_file_path = os.path.join(input_file_dir, file)\n",
    "#         if \"10.1021\" in file:\n",
    "#             all_captions = dl.download_captions_headers_footnotes_acs(input_file_path)\n",
    "#             dl.save_captions(caption_file_dir, article_name, all_captions)\n",
    "        \n",
    "#         if \"10.1002\" in file:\n",
    "#             all_captions = dl.download_captions_headers_footnotes_wiley(input_file_path) \n",
    "#             dl.save_captions(caption_file_dir, article_name, all_captions)\n",
    "\n",
    "#         if \"10.1039\" in file:\n",
    "#             all_captions = dl.download_captions_headers_footnotes_rsc(input_file_path)\n",
    "#             dl.save_captions(caption_file_dir, article_name, all_captions)\n",
    "\n",
    "#         if \"10.1016\" in file: \n",
    "#             all_captions = dl.download_captions_headers_footnots_elsevier_cellpress(input_file_path)\n",
    "#             dl.save_captions(caption_file_dir, article_name, all_captions)\n"
   ]
  },
  {
   "cell_type": "code",
   "execution_count": 6,
   "metadata": {},
   "outputs": [],
   "source": [
    "import os\n",
    "\n",
    "input_file_dir = \"/mnt/c/Users/Shi Xuan/OneDrive - University of Toronto/ocr-captions_generated/photocatalysis/10.1002_anie.201805732.json\"\n",
    "for filename in os.listdir(input_file_dir):\n",
    "    if \"10.1002.\" in filename:\n",
    "        new_filename = filename.replace(\"10.1002.\", \"10.1002_\", 1)\n",
    "    elif \"10.1039.\" in filename: \n",
    "        new_filename = filename.replace(\"10.1039.\", \"10.1039_\", 1)\n",
    "    elif \"10.1021.\" in filename: \n",
    "        new_filename = filename.replace(\"10.1021.\", \"10.1021_\", 1)    \n",
    "    elif \"10.1016.\" in filename: \n",
    "        new_filename = filename.replace(\"10.1016.\", \"10.1016_\", 1)        \n",
    "    old_filepath = os.path.join(input_file_dir, filename)\n",
    "    new_filepath = os.path.join(input_file_dir, new_filename)\n",
    "    os.rename(old_filepath, new_filepath)\n"
   ]
  },
  {
   "cell_type": "code",
   "execution_count": 13,
   "metadata": {},
   "outputs": [
    {
     "name": "stdout",
     "output_type": "stream",
     "text": [
      "processing 10.1021_acs.joc.4c00501.json\n",
      "done processing 10.1021_acs.joc.4c00501.json\n",
      "\n",
      "processing adsc202100082-sup-0001-misc.json\n",
      "done processing adsc202100082-sup-0001-misc.json\n",
      "\n"
     ]
    }
   ],
   "source": [
    "import json\n",
    "import os\n",
    "\n",
    "original_directory = \"/mnt/c/Users/Shi Xuan/OneDrive - University of Toronto/0_Progress slides/\"\n",
    "new_directory = \"/mnt/c/Users/Shi Xuan/OneDrive - University of Toronto/0_Progress slides/temp/\"\n",
    "\n",
    "\n",
    "for file in os.listdir(original_directory):\n",
    "    if file.endswith('json'):\n",
    "        print(f\"processing {file}\")\n",
    "        file_path = os.path.join(original_directory, file)\n",
    "        with open(file_path, \"r\") as f:\n",
    "            data = json.load(f)\n",
    "            cleaned_data = sorted([item[\"<OCR>\"].replace('\"', '') for item in data])\n",
    "        \n",
    "        new_file_path = os.path.join(new_directory, file)\n",
    "        with open(new_file_path, \"w\") as new_file:\n",
    "            json.dump(cleaned_data, new_file, indent=4)\n",
    "        print(f\"done processing {file}\")\n",
    "        print()\n",
    "\n",
    "\n"
   ]
  },
  {
   "cell_type": "code",
   "execution_count": 1,
   "metadata": {},
   "outputs": [],
   "source": [
    "html_content = \"\"\"\n",
    "\n",
    "[<div bis_skin_checked=\"1\" class=\"tables frame-topbot colsep-0 rowsep-0\" id=\"tbl1\"><span class=\"captions text-s\"><span id=\"cap0030\"><p id=\"tspara0010\"><span class=\"label\">Table 1</span>. Optimization of the reaction conditions</p></span></span><div bis_skin_checked=\"1\" class=\"groups\"><table><thead><tr class=\"rowsep-1 valign-bottom\"><th colspan=\"7\" scope=\"col\"><figure class=\"inline-figure\"><img alt=\"\" height=\"76\" src=\"https://ars.els-cdn.com/content/image/1-s2.0-S2589004222021691-fx2.jpg\"/></figure></th></tr><tr class=\"rowsep-1 valign-bottom\"><th scope=\"col\">Entry</th><th scope=\"col\">Rh catalyst<a class=\"anchor anchor-primary\" data-sd-ui-side-panel-opener=\"true\" data-xocs-content-id=\"tblfn1\" data-xocs-content-type=\"reference\" href=\"#tblfn1\" name=\"btblfn1\"><span class=\"anchor-text-container\"><span class=\"anchor-text\"><sup>a</sup></span></span></a></th><th scope=\"col\">Base</th><th scope=\"col\">Solvent</th><th scope=\"col\">Temp.</th><th scope=\"col\">Yield</th><th scope=\"col\"><em>ee</em></th></tr></thead><tbody><tr class=\"valign-top\"><td>1</td><td>Rh<sub>2</sub>(<em>S</em>-DOSP)<sub>4</sub> (1 mol %)</td><td>DIPEA</td><td>TFT</td><td>25°C</td><td>58%</td><td>59%</td></tr><tr class=\"valign-top\"><td>2</td><td>Rh<sub>2</sub>(<em>S</em>-PTTL)<sub>4</sub> (1 mol %)</td><td>DIPEA</td><td>TFT</td><td>25°C</td><td>66%</td><td>87%</td></tr><tr class=\"valign-top\"><td>3</td><td>Rh<sub>2</sub>(<em>S</em>-PTAD)<sub>4</sub> (1 mol %)</td><td>DIPEA</td><td>TFT</td><td>25°C</td><td>61%</td><td>91%</td></tr><tr class=\"valign-top\"><td>4</td><td>Rh<sub>2</sub>(<em>S</em>-BTPCP)<sub>4</sub> (1 mol %)</td><td>DIPEA</td><td>TFT</td><td>25°C</td><td><em>N.D.</em></td><td>–</td></tr><tr class=\"valign-top\"><td>5</td><td>Rh<sub>2</sub>(<em>S</em>-PTAD)<sub>4</sub> (1 mol %)</td><td>K<sub>2</sub>CO<sub>3</sub></td><td>TFT</td><td>25°C</td><td><em>N</em>.<em>R</em>.</td><td>–</td></tr><tr class=\"valign-top\"><td>6</td><td>Rh<sub>2</sub>(<em>S</em>-PTAD)<sub>4</sub> (1 mol %)</td><td>CsCO<sub>3</sub></td><td>TFT</td><td>25°C</td><td><em>N</em>.<em>R</em>.</td><td>–</td></tr><tr class=\"valign-top\"><td>7</td><td>Rh<sub>2</sub>(<em>S</em>-PTAD)<sub>4</sub> (1 mol %)</td><td><em>t</em>BuOK</td><td>TFT</td><td>25°C</td><td><em>N</em>.<em>R</em>.</td><td>–</td></tr><tr class=\"valign-top\"><td>8</td><td>Rh<sub>2</sub>(S-PTAD)<sub>4</sub> (1 mol %)</td><td>DIPEA</td><td>Toluene</td><td>25°C</td><td>53%</td><td>82%</td></tr><tr class=\"valign-top\"><td>9</td><td>Rh<sub>2</sub>(S-PTAD)<sub>4</sub> (1 mol %)</td><td>DIPEA</td><td>DCM</td><td>25°C</td><td>47%</td><td>20%</td></tr><tr class=\"valign-top\"><td>10</td><td>Rh<sub>2</sub>(S-PTAD)<sub>4</sub> (1 mol %)</td><td>DIPEA</td><td>DMF</td><td>25°C</td><td>Trace</td><td>–</td></tr><tr class=\"valign-top\"><td>11</td><td>Rh<sub>2</sub>(<em>S</em>-PTAD)<sub>4</sub> (1 mol %)</td><td>DIPEA</td><td>TFT</td><td>40°C</td><td>73%</td><td>87%</td></tr><tr class=\"valign-top\"><td>12</td><td>Rh<sub>2</sub>(<em>S</em>-PTAD)<sub>4</sub> (1 mol %)</td><td>DIPEA</td><td>TFT</td><td>0°C</td><td>21%</td><td>–</td></tr><tr class=\"valign-top\"><td>13</td><td>Rh<sub>2</sub>(<em>S</em>-PTAD)<sub>4</sub> (0.5 mol %)</td><td>DIPEA</td><td>TFT</td><td>25°C</td><td>61%</td><td>92%</td></tr><tr class=\"valign-top\"><td>14</td><td>Rh<sub>2</sub>(<em>S</em>-PTAD)<sub>4</sub> (0.25 mol %)</td><td>DIPEA</td><td>TFT</td><td>25°C</td><td>50%</td><td>74%</td></tr><tr class=\"valign-top\"><td>15<a class=\"anchor anchor-primary\" data-sd-ui-side-panel-opener=\"true\" data-xocs-content-id=\"tblfn2\" data-xocs-content-type=\"reference\" href=\"#tblfn2\" name=\"btblfn2\"><span class=\"anchor-text-container\"><span class=\"anchor-text\"><sup>b</sup></span></span></a></td><td>Rh<sub>2</sub>(<em>S</em>-PTAD)<sub>4</sub> (0.5 mol %)</td><td>DIPEA</td><td>TFT</td><td>25°C</td><td>93%</td><td>95%</td></tr><tr class=\"valign-top\"><td colspan=\"7\"><figure class=\"inline-figure\"><img alt=\"\" height=\"156\" src=\"https://ars.els-cdn.com/content/image/1-s2.0-S2589004222021691-fx3.jpg\"/></figure></td></tr></tbody></table></div><div bis_skin_checked=\"1\" class=\"legend\"><div bis_skin_checked=\"1\" class=\"u-margin-s-bottom\" id=\"tspara0015\"><em>N.D.</em>, Not detect.</div></div><dl class=\"footnotes\"><dt id=\"tblfn1\">a</dt><dd><div bis_skin_checked=\"1\" class=\"u-margin-s-bottom\" id=\"ntpara0020\">Reaction conditions: <em>N</em>-Triftosylhydrazone <strong>1</strong> (0.2 mmol), 1,1-diphenylethylene <strong>2</strong> (0.1 mmol), [Rh] catalyst (1 mol %), DIPEA (<em>N</em>, <em>N</em>-diisopropylethylamine) (0.2 mmol), TFT (benzotrifluoride, 3.0 mL), 12 h, under N<sub>2</sub>.</div></dd><dt id=\"tblfn2\">b</dt><dd><div bis_skin_checked=\"1\" class=\"u-margin-s-bottom\" id=\"ntpara0025\"><em>α</em>-Methyl-4-NO<sub>2</sub>-phenylethylene was used.</div></dd></dl></div>, <div bis_skin_checked=\"1\" class=\"tables frame-topbot colsep-0 rowsep-0\" id=\"undtbl1\"><div bis_skin_checked=\"1\" class=\"groups\"><table><thead><tr class=\"rowsep-1 valign-bottom\"><th scope=\"col\">REAGENT or RESOURCE</th><th scope=\"col\">SOURCE</th><th scope=\"col\">IDENTIFIER</th></tr></thead><tbody><tr class=\"rowsep-1 valign-top\"><th colspan=\"3\" scope=\"row\"><strong>Chemicals, peptides, and recombinant proteins</strong></th></tr><tr class=\"valign-top\"><td>2-(Trifluoromethyl)benzenesulfonyl chloride</td><td>776-04-5</td><td>Energy Chemical</td></tr><tr class=\"valign-top\"><td>DIPEA</td><td>7087-68-5</td><td>Energy Chemical</td></tr><tr class=\"valign-top\"><td>Rh<sub>2</sub>(<em>S</em>-PTAD)<sub>4</sub></td><td>909389-99-7</td><td>J&amp;K Scientific</td></tr><tr class=\"valign-top\"><td>TFT(Benzotrifluoride)</td><td>98-08-8</td><td>Energy Chemical</td></tr><tr class=\"valign-top\"><td>Hydrazinium hydroxide solution</td><td>10217-52-4</td><td>Energy Chemical</td></tr></tbody></table></div></div>]\n",
    "\n",
    "\n",
    "\"\"\""
   ]
  },
  {
   "cell_type": "code",
   "execution_count": null,
   "metadata": {},
   "outputs": [],
   "source": [
    "from bs4 import BeautifulSoup\n",
    "\n",
    "soup = BeautifulSoup(html_content, 'html.parser')\n",
    "\n",
    "caption_text = soup.find(\"p\").get_text(strip=True)\n",
    "print(caption_text)\n",
    "print()\n",
    "\n"
   ]
  },
  {
   "cell_type": "code",
   "execution_count": 9,
   "metadata": {},
   "outputs": [],
   "source": [
    "html_content2 = \"\"\"\n",
    "<figure class=\"figure text-xs\" id=\"sch1\"><span><img src=\"https://ars.els-cdn.com/content/image/1-s2.0-S2666386423005271-sc1.jpg\" height=\"381\" alt=\"\" aria-describedby=\"cap0010\"><ol class=\"u-margin-s-bottom\"><li><a class=\"anchor download-link u-font-sans anchor-primary\" href=\"https://ars.els-cdn.com/content/image/1-s2.0-S2666386423005271-sc1_lrg.jpg\" target=\"_blank\" download=\"\" title=\"Download high-res image (945KB)\"><span class=\"anchor-text-container\"><span class=\"anchor-text\">Download: <span class=\"download-link-title\">Download high-res image (945KB)</span></span></span></a></li><li><a class=\"anchor download-link u-font-sans anchor-primary\" href=\"https://ars.els-cdn.com/content/image/1-s2.0-S2666386423005271-sc1.jpg\" target=\"_blank\" download=\"\" title=\"Download full-size image\"><span class=\"anchor-text-container\"><span class=\"anchor-text\">Download: <span class=\"download-link-title\">Download full-size image</span></span></span></a></li></ol></span><span class=\"captions text-s\"><span id=\"cap0010\"><p id=\"fspara0010\"><span class=\"label\">Scheme 1</span>. The importance of <a href=\"/topics/pharmacology-toxicology-and-pharmaceutical-science/deuterium\" title=\"Learn more about deuterium from ScienceDirect's AI-generated Topic Pages\" class=\"topic-link\">deuterium</a><span>, applications of deuteration in <a href=\"/topics/pharmacology-toxicology-and-pharmaceutical-science/drug-discovery\" title=\"Learn more about drug discovery from ScienceDirect's AI-generated Topic Pages\" class=\"topic-link\">drug discovery</a> and strategies to access D-labeled alkyl methyl sulfides</span></p><div class=\"u-margin-s-bottom\" id=\"fspara0015\" bis_skin_checked=\"1\"><span>(A) The importance of <a href=\"/topics/chemistry/deuterium\" title=\"Learn more about deuterium from ScienceDirect's AI-generated Topic Pages\" class=\"topic-link\">deuterium</a> in </span><a href=\"/topics/pharmacology-toxicology-and-pharmaceutical-science/drug-development\" title=\"Learn more about drug development from ScienceDirect's AI-generated Topic Pages\" class=\"topic-link\">drug development</a> and discovery: combination with magic methyl effect and heteroatom.</div><div class=\"u-margin-s-bottom\" id=\"fspara0020\" bis_skin_checked=\"1\"><span>(B) <a href=\"/topics/chemistry/hydrogen-isotope\" title=\"Learn more about Hydrogen isotope from ScienceDirect's AI-generated Topic Pages\" class=\"topic-link\">Hydrogen isotope</a> exchange (HIE) by gaseous D</span><sub>2</sub>.</div><div class=\"u-margin-s-bottom\" id=\"fspara0025\" bis_skin_checked=\"1\">(C) Nucleophilic deuterated <a href=\"/topics/chemistry/methylation\" title=\"Learn more about methylation from ScienceDirect's AI-generated Topic Pages\" class=\"topic-link\">methylation</a> from thiol.</div><div class=\"u-margin-s-bottom\" id=\"fspara0030\" bis_skin_checked=\"1\">(D) ArSO<sub>2</sub>SNa: \"S\" shuttle to access D-labeled methylthiolated molecules (this work).</div></span></span></figure>\n",
    "\"\"\""
   ]
  },
  {
   "cell_type": "code",
   "execution_count": null,
   "metadata": {},
   "outputs": [],
   "source": [
    "soup = BeautifulSoup(html_content2, 'html.parser')\n",
    "\n",
    "figure_captions = soup.find_all(\"figure\", class_=\"figure text-xs\")\n",
    "\n",
    "for caption in figure_captions:\n",
    "    caption_text = caption.find(\"p\").get_text(strip=True)\n",
    "    print(caption_text)\n",
    "    print()\n",
    "    footnotes = caption.find_all(\"div\", class_=\"u-margin-s-bottom\")\n",
    "    for footnote in footnotes:\n",
    "        footnote_a = footnote.get_text(strip=True)\n",
    "        print(footnote_a)\n",
    "        caption_text += f\" {footnote_a}\" \n",
    "    print(caption_text)"
   ]
  },
  {
   "cell_type": "markdown",
   "metadata": {},
   "source": [
    "##### Make json files"
   ]
  },
  {
   "cell_type": "code",
   "execution_count": null,
   "metadata": {},
   "outputs": [],
   "source": [
    "import json\n",
    "import os\n",
    "\n",
    "def process_json_lines(input_file, output_dir):\n",
    "    # Ensure output directory exists\n",
    "    os.makedirs(output_dir, exist_ok=True)\n",
    "\n",
    "    # Open the input JSON file and read line by line\n",
    "    with open(input_file, 'r') as file:\n",
    "        for line in file:\n",
    "            try:\n",
    "                # Load the JSON object from the line\n",
    "                line = line.strip()\n",
    "                \n",
    "                # Replace / with _ in the image name to use as filename\n",
    "                filename = line.replace('/', '_')\n",
    "                \n",
    "                # Create the path for the empty JSON file\n",
    "                output_file = os.path.join(output_dir, filename + '.json')\n",
    "                \n",
    "                # Save an empty JSON object to the new file\n",
    "                with open(output_file, 'w') as outfile:\n",
    "                    json.dump({}, outfile)\n",
    "                \n",
    "                print(f\"Created empty JSON file: {output_file}\")\n",
    "            except json.JSONDecodeError as e:\n",
    "                print(f\"Failed to parse line: {line}\")\n",
    "                print(f\"Error: {e}\")\n",
    "\n",
    "# Example usage:\n",
    "input_file = '../downloaded_html/electrosynthesis/DOI.json'  \n",
    "output_dir = '../downloaded_html/electrosynthesis/'\n",
    "process_json_lines(input_file, output_dir)\n"
   ]
  }
 ],
 "metadata": {
  "kernelspec": {
   "display_name": "base",
   "language": "python",
   "name": "python3"
  },
  "language_info": {
   "codemirror_mode": {
    "name": "ipython",
    "version": 3
   },
   "file_extension": ".py",
   "mimetype": "text/x-python",
   "name": "python",
   "nbconvert_exporter": "python",
   "pygments_lexer": "ipython3",
   "version": "3.11.5"
  }
 },
 "nbformat": 4,
 "nbformat_minor": 2
}
