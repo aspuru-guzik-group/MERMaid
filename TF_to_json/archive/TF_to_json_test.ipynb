{
 "cells": [
  {
   "cell_type": "code",
   "execution_count": 9,
   "metadata": {},
   "outputs": [],
   "source": [
    "# Update dictionary with reaction SMILES\n",
    "\n",
    "import os\n",
    "import json\n",
    "\n",
    "def update_dict_with_smiles(image_name, json_directory): \n",
    "    \"\"\"\n",
    "    Combine reaction optimization data with reaction SMILES\n",
    "    \"\"\"\n",
    "    # load optimization runs dictionary \n",
    "    dict_path = os.path.join(json_directory, f\"{image_name}_response_updated.json\")\n",
    "    with open(dict_path, \"r\") as file:\n",
    "        opt_dict = json.load(file)\n",
    "    opt_data = opt_dict[\"Optimization Runs\"]\n",
    "\n",
    "    # load reaction smiles list\n",
    "    smiles_path = os.path.join(json_directory, f\"{image_name}_rxnsmiles.json\")\n",
    "    with open(smiles_path, \"r\") as file2: \n",
    "        smiles_list = json.load(file2)\n",
    "\n",
    "    # combine and save \n",
    "    updated_dict = {\n",
    "        \"SMILES\": {\n",
    "            \"reactants\": smiles_list[0]['reactants'], \n",
    "            \"products\": smiles_list[0]['products']\n",
    "        }, \n",
    "        \"Optimization Runs\": opt_data\n",
    "    }\n",
    "\n",
    "    output_path = os.path.join(json_directory, f\"{image_name}_full_opt_dictionary.json\")\n",
    "    with open(output_path, 'w') as output_file: \n",
    "        json.dump(updated_dict, output_file, indent = 4)\n",
    "\n",
    "    print (f\"Reaction optimization dictionary updated with reaction smiles for {image_name}\")"
   ]
  },
  {
   "cell_type": "code",
   "execution_count": 10,
   "metadata": {},
   "outputs": [
    {
     "name": "stdout",
     "output_type": "stream",
     "text": [
      "Reaction optimization dictionary updated with reaction smiles for RSC1_table_1\n"
     ]
    }
   ],
   "source": [
    "image_name = \"RSC1_table_1\"\n",
    "json_directory = \"/mnt/c/Users/Shi Xuan/OneDrive - University of Toronto/Project_MERLIN/Project_Digital esyn corpus/TF_to_json/TEST-cropped/reaction_SMILES/\"\n",
    "update_dict_with_smiles(image_name, json_directory)\n",
    "\n",
    "\n",
    "\n"
   ]
  }
 ],
 "metadata": {
  "kernelspec": {
   "display_name": "Python 3",
   "language": "python",
   "name": "python3"
  },
  "language_info": {
   "codemirror_mode": {
    "name": "ipython",
    "version": 3
   },
   "file_extension": ".py",
   "mimetype": "text/x-python",
   "name": "python",
   "nbconvert_exporter": "python",
   "pygments_lexer": "ipython3",
   "version": "3.11.8"
  }
 },
 "nbformat": 4,
 "nbformat_minor": 2
}
