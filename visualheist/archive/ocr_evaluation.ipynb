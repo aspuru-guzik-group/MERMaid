{
  "nbformat": 4,
  "nbformat_minor": 0,
  "metadata": {
    "colab": {
      "provenance": [],
      "gpuType": "T4"
    },
    "kernelspec": {
      "name": "python3",
      "display_name": "Python 3"
    },
    "language_info": {
      "name": "python"
    },
    "accelerator": "GPU"
  },
  "cells": [
    {
      "cell_type": "code",
      "execution_count": null,
      "metadata": {
        "colab": {
          "base_uri": "https://localhost:8080/"
        },
        "collapsed": true,
        "id": "5bB6b9LcyH3U",
        "outputId": "8878cdec-301c-4516-f967-a08db36a6437"
      },
      "outputs": [
        {
          "output_type": "stream",
          "name": "stdout",
          "text": [
            "Requirement already satisfied: nltk in /usr/local/lib/python3.10/dist-packages (3.8.1)\n",
            "Requirement already satisfied: click in /usr/local/lib/python3.10/dist-packages (from nltk) (8.1.7)\n",
            "Requirement already satisfied: joblib in /usr/local/lib/python3.10/dist-packages (from nltk) (1.4.2)\n",
            "Requirement already satisfied: regex>=2021.8.3 in /usr/local/lib/python3.10/dist-packages (from nltk) (2024.9.11)\n",
            "Requirement already satisfied: tqdm in /usr/local/lib/python3.10/dist-packages (from nltk) (4.66.5)\n"
          ]
        }
      ],
      "source": [
        "pip install nltk"
      ]
    },
    {
      "cell_type": "code",
      "source": [
        "pip install scikit-learn"
      ],
      "metadata": {
        "colab": {
          "base_uri": "https://localhost:8080/"
        },
        "collapsed": true,
        "id": "ZzOf0c3eyXs8",
        "outputId": "f42cf04c-1a5f-4722-b415-de52af79554d"
      },
      "execution_count": null,
      "outputs": [
        {
          "output_type": "stream",
          "name": "stdout",
          "text": [
            "Requirement already satisfied: scikit-learn in /usr/local/lib/python3.10/dist-packages (1.5.2)\n",
            "Requirement already satisfied: numpy>=1.19.5 in /usr/local/lib/python3.10/dist-packages (from scikit-learn) (1.26.4)\n",
            "Requirement already satisfied: scipy>=1.6.0 in /usr/local/lib/python3.10/dist-packages (from scikit-learn) (1.13.1)\n",
            "Requirement already satisfied: joblib>=1.2.0 in /usr/local/lib/python3.10/dist-packages (from scikit-learn) (1.4.2)\n",
            "Requirement already satisfied: threadpoolctl>=3.1.0 in /usr/local/lib/python3.10/dist-packages (from scikit-learn) (3.5.0)\n"
          ]
        }
      ]
    },
    {
      "cell_type": "code",
      "source": [
        "pip install rouge-score"
      ],
      "metadata": {
        "collapsed": true,
        "colab": {
          "base_uri": "https://localhost:8080/"
        },
        "id": "DDnDkzka2cjK",
        "outputId": "81a03caa-364c-4302-bb58-dbed16f14edd"
      },
      "execution_count": null,
      "outputs": [
        {
          "output_type": "stream",
          "name": "stdout",
          "text": [
            "Collecting rouge-score\n",
            "  Downloading rouge_score-0.1.2.tar.gz (17 kB)\n",
            "  Preparing metadata (setup.py) ... \u001b[?25l\u001b[?25hdone\n",
            "Requirement already satisfied: absl-py in /usr/local/lib/python3.10/dist-packages (from rouge-score) (1.4.0)\n",
            "Requirement already satisfied: nltk in /usr/local/lib/python3.10/dist-packages (from rouge-score) (3.8.1)\n",
            "Requirement already satisfied: numpy in /usr/local/lib/python3.10/dist-packages (from rouge-score) (1.26.4)\n",
            "Requirement already satisfied: six>=1.14.0 in /usr/local/lib/python3.10/dist-packages (from rouge-score) (1.16.0)\n",
            "Requirement already satisfied: click in /usr/local/lib/python3.10/dist-packages (from nltk->rouge-score) (8.1.7)\n",
            "Requirement already satisfied: joblib in /usr/local/lib/python3.10/dist-packages (from nltk->rouge-score) (1.4.2)\n",
            "Requirement already satisfied: regex>=2021.8.3 in /usr/local/lib/python3.10/dist-packages (from nltk->rouge-score) (2024.9.11)\n",
            "Requirement already satisfied: tqdm in /usr/local/lib/python3.10/dist-packages (from nltk->rouge-score) (4.66.5)\n",
            "Building wheels for collected packages: rouge-score\n",
            "  Building wheel for rouge-score (setup.py) ... \u001b[?25l\u001b[?25hdone\n",
            "  Created wheel for rouge-score: filename=rouge_score-0.1.2-py3-none-any.whl size=24935 sha256=f6b4289263bf419742a211a012eed63e8187decf674e78518428591a05f22a57\n",
            "  Stored in directory: /root/.cache/pip/wheels/5f/dd/89/461065a73be61a532ff8599a28e9beef17985c9e9c31e541b4\n",
            "Successfully built rouge-score\n",
            "Installing collected packages: rouge-score\n",
            "Successfully installed rouge-score-0.1.2\n"
          ]
        }
      ]
    },
    {
      "cell_type": "code",
      "source": [
        "pip install torch torchvision torchaudio"
      ],
      "metadata": {
        "id": "urU1fmTE_Ihe"
      },
      "execution_count": null,
      "outputs": []
    },
    {
      "cell_type": "code",
      "source": [
        "pip install easyocr"
      ],
      "metadata": {
        "id": "RqxlNFRh_Sno"
      },
      "execution_count": null,
      "outputs": []
    },
    {
      "cell_type": "code",
      "source": [
        "pip install easyocr[english]"
      ],
      "metadata": {
        "id": "KRY2PNcQ_YSF"
      },
      "execution_count": null,
      "outputs": []
    },
    {
      "cell_type": "code",
      "source": [
        "pip install transformers timm flash_attn einops"
      ],
      "metadata": {
        "id": "Qoou0yTPY5pe"
      },
      "execution_count": null,
      "outputs": []
    },
    {
      "cell_type": "code",
      "source": [
        "import nltk\n",
        "from nltk.translate.bleu_score import sentence_bleu\n",
        "from sklearn.feature_extraction.text import TfidfVectorizer\n",
        "from sklearn.metrics.pairwise import cosine_similarity\n",
        "from rouge_score import rouge_scorer\n",
        "from nltk.translate.meteor_score import meteor_score"
      ],
      "metadata": {
        "id": "n-8A15cKzQc_"
      },
      "execution_count": null,
      "outputs": []
    },
    {
      "cell_type": "code",
      "source": [
        "nltk.download('punkt')\n",
        "nltk.download('wordnet')\n",
        "nltk.download('omw-1.4')"
      ],
      "metadata": {
        "id": "Fq76UIjn1Hkn"
      },
      "execution_count": null,
      "outputs": []
    },
    {
      "cell_type": "markdown",
      "source": [
        "# BLEU score"
      ],
      "metadata": {
        "id": "Dgfa109nyeO_"
      }
    },
    {
      "cell_type": "code",
      "source": [
        "def calculate_bleu_score(generated: str, ground_truth: str):\n",
        "  generated = nltk.word_tokenize(generated)\n",
        "  ground_truth = nltk.word_tokenize(ground_truth)\n",
        "  return sentence_bleu([ground_truth], generated)"
      ],
      "metadata": {
        "id": "BjYMvuMgzBFT"
      },
      "execution_count": null,
      "outputs": []
    },
    {
      "cell_type": "markdown",
      "source": [
        "# ROUGE score"
      ],
      "metadata": {
        "id": "coLcomMo14-8"
      }
    },
    {
      "cell_type": "code",
      "source": [
        "def calculate_rouge_score(generated: str, ground_truth: str):\n",
        "  scorer = rouge_scorer.RougeScorer(['rouge1', 'rouge2', 'rougeL'], use_stemmer=True)\n",
        "\n",
        "  # Calculate ROUGE scores\n",
        "  scores = scorer.score(ground_truth, generated)\n",
        "  return scores[\"rouge1\"].fmeasure, scores[\"rouge2\"].fmeasure, scores[\"rougeL\"].fmeasure"
      ],
      "metadata": {
        "id": "OzeLjXOz2k-c"
      },
      "execution_count": null,
      "outputs": []
    },
    {
      "cell_type": "markdown",
      "source": [
        "# TER score"
      ],
      "metadata": {
        "id": "YmjnEc7i33Wr"
      }
    },
    {
      "cell_type": "code",
      "source": [
        "def calculate_ter_score(generated: str, ground_truth: str):\n",
        "    \"\"\"Calculates the Translation Edit Rate (TER).\"\"\"\n",
        "    edits = edit_distance(ground_truth, generated)\n",
        "    ref_length = len(ground_truth.split())\n",
        "\n",
        "    # TER is the edit distance divided by the length of the reference\n",
        "    ter_score = edits / ref_length if ref_length > 0 else float('inf')\n",
        "    return ter_score\n",
        "\n",
        "\n",
        "def edit_distance(ref, hyp):\n",
        "    \"\"\"Calculates the edit distance between reference and hypothesis.\"\"\"\n",
        "    ref_words = ref.split()\n",
        "    hyp_words = hyp.split()\n",
        "\n",
        "    # Create a matrix to store distances\n",
        "    d = [[0] * (len(hyp_words) + 1) for _ in range(len(ref_words) + 1)]\n",
        "\n",
        "    # Initialize the distance matrix\n",
        "    for i in range(len(ref_words) + 1):\n",
        "        d[i][0] = i\n",
        "    for j in range(len(hyp_words) + 1):\n",
        "        d[0][j] = j\n",
        "\n",
        "    # Fill the matrix\n",
        "    for i in range(1, len(ref_words) + 1):\n",
        "        for j in range(1, len(hyp_words) + 1):\n",
        "            cost = 0 if ref_words[i - 1] == hyp_words[j - 1] else 1\n",
        "            d[i][j] = min(d[i - 1][j] + 1,    # Deletion\n",
        "                           d[i][j - 1] + 1,    # Insertion\n",
        "                           d[i - 1][j - 1] + cost)  # Substitution\n",
        "\n",
        "    return d[len(ref_words)][len(hyp_words)]"
      ],
      "metadata": {
        "id": "wA-RXVtq34sp"
      },
      "execution_count": null,
      "outputs": []
    },
    {
      "cell_type": "markdown",
      "source": [
        "# METEOR score"
      ],
      "metadata": {
        "id": "Xa3gikW46aHy"
      }
    },
    {
      "cell_type": "code",
      "source": [
        "def calculate_meteor_score(generated: str, ground_truth: str):\n",
        "  ground_truth = nltk.word_tokenize(ground_truth)\n",
        "  generated = nltk.word_tokenize(generated)\n",
        "  return meteor_score([ground_truth], generated)"
      ],
      "metadata": {
        "id": "d5DmkXTo6e_j"
      },
      "execution_count": null,
      "outputs": []
    },
    {
      "cell_type": "markdown",
      "source": [
        "# easyOCR wrapper"
      ],
      "metadata": {
        "id": "dNFk73Dt_cmQ"
      }
    },
    {
      "cell_type": "code",
      "source": [
        "import easyocr\n",
        "\n",
        "def get_easyOCR(image_path: str):\n",
        "  reader = easyocr.Reader(['en']) # specify the language\n",
        "  result = reader.readtext(image_path)\n",
        "\n",
        "  final_text = \"\"\n",
        "  for (bbox, text, prob) in result:\n",
        "    final_text += \" \" + text\n",
        "  return text"
      ],
      "metadata": {
        "id": "4YPE5TIh_fEB"
      },
      "execution_count": null,
      "outputs": []
    },
    {
      "cell_type": "markdown",
      "source": [
        "# Flourence-2 Wrapper"
      ],
      "metadata": {
        "id": "Z3PU851CYw3x"
      }
    },
    {
      "cell_type": "code",
      "source": [
        "from transformers import AutoProcessor, AutoModelForCausalLM\n",
        "from PIL import Image\n",
        "import requests\n",
        "import copy\n",
        "model_id = 'microsoft/Florence-2-large'\n",
        "model = AutoModelForCausalLM.from_pretrained(model_id, trust_remote_code=True).eval().cuda()\n",
        "processor = AutoProcessor.from_pretrained(model_id, trust_remote_code=True)\n",
        "\n",
        "def run_example(task_prompt, text_input=None):\n",
        "\tif text_input is None:\n",
        "    \t\tprompt = task_prompt\n",
        "\telse:\n",
        "    \t\tprompt = task_prompt + text_input\n",
        "\tinputs = processor(text=prompt, images=image, return_tensors=\"pt\")\n",
        "\tgenerated_ids = model.generate(\n",
        "  \tinput_ids=inputs[\"input_ids\"].cuda(),\n",
        "  \tpixel_values=inputs[\"pixel_values\"].cuda(),\n",
        "  \tmax_new_tokens=1024,\n",
        "  \tearly_stopping=False,\n",
        "  \tdo_sample=False,\n",
        "  \tnum_beams=3,\n",
        "\t)\n",
        "\tgenerated_text = processor.batch_decode(generated_ids, skip_special_tokens=False)[0]\n",
        "\tparsed_answer = processor.post_process_generation(\n",
        "    \tgenerated_text,\n",
        "    \ttask=task_prompt,\n",
        "    \timage_size=(image.width, image.height)\n",
        "\t)\n",
        "\n",
        "\treturn parsed_answer\n"
      ],
      "metadata": {
        "id": "OdlkQRQrYynn"
      },
      "execution_count": null,
      "outputs": []
    },
    {
      "cell_type": "markdown",
      "source": [
        "# Examples"
      ],
      "metadata": {
        "id": "m9RrHU-JYus2"
      }
    },
    {
      "cell_type": "code",
      "source": [
        "ground_truth_dict = {\"./adsc202100082-sup-0001-misc_information_page_14_table_0_caption_0.png\" : \"Table S4 shows the effect that the catalyst loading (mol %) had on the efficiency and selectivity of the reaction. Using C4 as the catalyst, we observed that lowering the catalyst loading to 1 mol% (entry 2) was deleterious for the effciency of the reaction, albeit the enantiocontrol of the process remained suprisingly unchanged (20% yield, 87:13 er). Furthermore, as raising the loading up to 20% (entry 3) didn't improved the overall reaction performance, we chose to maintain 10 mol% as the best loading for the process\",\n",
        "                \"./anie201805732_page_3_figure_0_caption_0.png\" : \"Scheme 5. Cycloaddition product diversification. Reagents: a) m-CPBA; b) Me3S(O)I, NaH; c) NBS, AIBN, then NaN3; d_Pd(OH)2/C, TBHP, K2CO3; e) CH3NO2, DBU; f) KHMDS, BnBr, HMPA; g) OsO4, NMO; h) Pb(OAc)4, then NaBH3CN, BnNH2, AcOH; i) Me3SiCHN2, nBuLi; j) TsOH; k) DIBAL; i) MeC(OEt)3, PivOH; m) Pd/C, H2; n) RuCl3.3H2O, NaIO4. AIBN =2,2'-azobisisobutyronitrile, DIBAL = di-isobutylaluminium hydride, DBU = 1,8-diazabicyclo[5.4.0]undec-7-ene, HMDS = hexamethyldisilazide, m-CPBA = meta-chloroperbenzoic acid, NBS = N-bromosuccinimide, NMO = N-methylmorpholine N-oxide, Piv = pivaloyl, TBHP = tert-butyl hydrogen peroxide\",\n",
        "                \"./cs2c01442_page_3_figure_2_caption_0.png\" : \"Figure 2. Photocatalyzed sulfinate salt formation and telescoped reaction from a primary sulfonamide. aReaction conditions: (1) p-CF3-benzyl bromide (1.5 equiv), TBAB (20 mol%), 100 oC, 24 h; (2) NFSI (1.5 equiv), K2CO3 (1.1 equiv), solvent switch to THF/H2) (10:1, 0.2 M), rt./ 12 h; (3) acidify using 2 M a1. H3PO4 extract (Na2CO3). bReaction conditions: step (i) sulfonamide 9 (1.0 equiv), p-anisaldehyde (1.0 equiv), Amberlyst 15 (5 mg/mmol), PhMe (0.1 M), Dean-Stark, 12 H; step (iii) MVK (2.5 equiv), 5CzBN (0.5 mol%) TMS3Si-H (1.5 equiv), PhMe (0.05 M), blue LEDs, 15 oC, 4h\",\n",
        "                \"./cs2c03805_page_5_figure_0_caption_0.png\" : \"Figure 4. (a) Photoexcitation of benzophenone entails the hydrogen atom abstraction from silane. (b) Microsecond triplet-triplet differential absorbtion spectra recorded at different times after laster excitation of employed BP I in deoxygenated acetonitrile with a 5 ns laser pulse at 319 nm in the presence of an excess of (TMS)3SiH (8.6 equiv). (c) Comparison of microsecond triplet-triplet differ- ential absorbtion spectra recorded at 50 us after 319 excitation in the presence of (red dash) (TMS)3SiH (8.6 equiv) and (green dash) tetrahydrofuran (8.6 equiv).\",\n",
        "                \"./cs3c05150_page_4_figure_0_caption_0.png\" : \"Figure 3. (A) Possivle pathways suggested by DFT calculations. (B) DFT calculation energy profile and structures of the transition states. (C) Quenching of emission with various substrates (40 mM). Addition of collidine (10 mM) does not enhance the quenching (only additive effect and not cooperative). (D) Fraction of quenching efficiency of Fukuzumiz catalyst emission with two different substrates (40 mM), calculated as 1- Iquenccher/I0, where Iquencher and I0 are the emission intensities in presence and absence of quencher, respectively. The inset shows different areas of contribution of the acridinium and charge transfer states to the fluorescence spectrum of the Fukuzumi catalyst. (E) Transient absorbption spectra with the model alcohol substrate (1o) (40 mM) at 300 ns after laser excitation at 430 nm. (F) Transient absorbption spectra with 4-methylanisole (40nm) at 100 ns after laser excitation at 430 nm. (G) transient absorbtion spectra with the model alcohol substrate (1n) (50 mM).\"}"
      ],
      "metadata": {
        "id": "74vkLO5d_9y3"
      },
      "execution_count": null,
      "outputs": []
    },
    {
      "cell_type": "code",
      "source": [
        "for key in ground_truth_dict:\n",
        "  ground_truth = ground_truth_dict[key]\n",
        "\n",
        "  image = Image.open(key)\n",
        "  task_prompt = '<OCR>'\n",
        "  generated = run_example(task_prompt)[\"<OCR>\"].strip()\n",
        "  print (\"############\")\n",
        "  print(key)\n",
        "  print(generated)\n",
        "  # print(ground_truth)\n",
        "  print(calculate_bleu_score(generated, ground_truth))\n",
        "  print(calculate_rouge_score(generated, ground_truth))\n",
        "  print(calculate_ter_score(generated, ground_truth))\n",
        "  print(calculate_meteor_score(generated, ground_truth))\n",
        "  print (\"############\")"
      ],
      "metadata": {
        "id": "YeCKmb8nIuV4"
      },
      "execution_count": null,
      "outputs": []
    }
  ]
}